{
 "cells": [
  {
   "cell_type": "code",
   "execution_count": 1,
   "metadata": {},
   "outputs": [],
   "source": [
    "import os\n",
    "os.chdir(\"/home/mayank_khulbe_farmart_co/fmt/document-alignment-detection\")"
   ]
  },
  {
   "cell_type": "code",
   "execution_count": 2,
   "metadata": {},
   "outputs": [],
   "source": [
    "import pandas as pd\n",
    "import numpy as np\n",
    "import matplotlib.pyplot as plt\n",
    "import seaborn as sns\n",
    "import os\n",
    "\n",
    "from PIL import Image\n",
    "\n",
    "from document_alignment_correction.helper import rotateImage\n",
    "from skimage import io"
   ]
  },
  {
   "cell_type": "code",
   "execution_count": 3,
   "metadata": {},
   "outputs": [],
   "source": [
    "os.chdir(\"/home/mayank_khulbe_farmart_co/fmt/document-alignment-detection/experiments/mayank\")"
   ]
  },
  {
   "cell_type": "code",
   "execution_count": 4,
   "metadata": {},
   "outputs": [
    {
     "data": {
      "text/plain": [
       "array([[255, 255, 255, ..., 255, 255, 255],\n",
       "       [255, 255, 255, ..., 255, 255, 255],\n",
       "       [255, 255, 255, ..., 255, 255, 255],\n",
       "       ...,\n",
       "       [255, 255, 255, ..., 255, 255, 255],\n",
       "       [255, 255, 255, ..., 255, 255, 255],\n",
       "       [255, 255, 255, ..., 255, 255, 255]], dtype=uint8)"
      ]
     },
     "execution_count": 4,
     "metadata": {},
     "output_type": "execute_result"
    }
   ],
   "source": [
    "image = io.imread(\"data/ffbf0023_4.png\")\n",
    "image"
   ]
  },
  {
   "cell_type": "code",
   "execution_count": 22,
   "metadata": {},
   "outputs": [
    {
     "data": {
      "text/plain": [
       "array([[0., 0., 0., ..., 0., 0., 0.],\n",
       "       [0., 0., 0., ..., 0., 0., 0.],\n",
       "       [0., 0., 0., ..., 0., 0., 0.],\n",
       "       ...,\n",
       "       [0., 0., 0., ..., 0., 0., 0.],\n",
       "       [0., 0., 0., ..., 0., 0., 0.],\n",
       "       [0., 0., 0., ..., 0., 0., 0.]])"
      ]
     },
     "execution_count": 22,
     "metadata": {},
     "output_type": "execute_result"
    }
   ],
   "source": [
    "\n",
    "rotated_cropped2, rotated_2 = rotateImage(image, 123)\n",
    "rotated_cropped2"
   ]
  },
  {
   "cell_type": "code",
   "execution_count": 23,
   "metadata": {},
   "outputs": [
    {
     "data": {
      "text/plain": [
       "array([0.00000000e+00, 4.66715692e-06, 4.75792502e-06, ...,\n",
       "       9.99999164e-01, 9.99999824e-01, 1.00000000e+00])"
      ]
     },
     "execution_count": 23,
     "metadata": {},
     "output_type": "execute_result"
    }
   ],
   "source": [
    "np.unique(rotated_cropped2)"
   ]
  },
  {
   "cell_type": "code",
   "execution_count": 24,
   "metadata": {},
   "outputs": [
    {
     "data": {
      "text/plain": [
       "array([[0.        , 0.        , 0.        , ..., 0.        , 0.        ,\n",
       "        0.        ],\n",
       "       [0.        , 0.        , 0.06689872, ..., 0.        , 0.        ,\n",
       "        0.        ],\n",
       "       [0.        , 0.        , 0.59994438, ..., 0.56772739, 0.02437766,\n",
       "        0.        ],\n",
       "       ...,\n",
       "       [0.02145318, 0.29174507, 0.88623828, ..., 0.69942039, 0.01810148,\n",
       "        0.        ],\n",
       "       [0.        , 0.        , 0.31743955, ..., 0.18775844, 0.        ,\n",
       "        0.        ],\n",
       "       [0.        , 0.        , 0.        , ..., 0.        , 0.        ,\n",
       "        0.        ]])"
      ]
     },
     "execution_count": 24,
     "metadata": {},
     "output_type": "execute_result"
    }
   ],
   "source": [
    "rotated_cropped3, rotated_3 = rotateImage(rotated_cropped2, -123)\n",
    "rotated_cropped3"
   ]
  },
  {
   "cell_type": "code",
   "execution_count": 14,
   "metadata": {},
   "outputs": [
    {
     "data": {
      "text/plain": [
       "array([[  0,   6,   3, ...,   5,   0,   0],\n",
       "       [  0, 145, 157, ..., 178,  48,   0],\n",
       "       [ 31, 172, 255, ..., 231,  57,   3],\n",
       "       ...,\n",
       "       [ 17, 153, 233, ..., 226,  81,   0],\n",
       "       [  0,   0,  87, ...,  75,   0,   0],\n",
       "       [  0,   0,   0, ...,   5,   0,   0]], dtype=uint8)"
      ]
     },
     "execution_count": 14,
     "metadata": {},
     "output_type": "execute_result"
    }
   ],
   "source": [
    "rotated_cropped4, rotated_4 = rotateImage(rotated_cropped, 90)\n",
    "rotated_4"
   ]
  },
  {
   "cell_type": "code",
   "execution_count": 15,
   "metadata": {},
   "outputs": [
    {
     "data": {
      "text/plain": [
       "array([[  0,   0,  17, ...,  31,   0,   0],\n",
       "       [  0,   0, 153, ..., 172, 145,   6],\n",
       "       [  0,  87, 233, ..., 255, 157,   3],\n",
       "       ...,\n",
       "       [  5,  75, 226, ..., 231, 178,   5],\n",
       "       [  0,   0,  81, ...,  57,  48,   0],\n",
       "       [  0,   0,   0, ...,   3,   0,   0]], dtype=uint8)"
      ]
     },
     "execution_count": 15,
     "metadata": {},
     "output_type": "execute_result"
    }
   ],
   "source": [
    "_, rotated_5 = rotateImage(rotated_4, -90)\n",
    "rotated_5"
   ]
  },
  {
   "cell_type": "code",
   "execution_count": 16,
   "metadata": {},
   "outputs": [],
   "source": [
    "io.imsave('data/output_image2.png', rotated_5)"
   ]
  },
  {
   "cell_type": "code",
   "execution_count": null,
   "metadata": {},
   "outputs": [],
   "source": [
    "import numpy as np\n",
    "from PIL import Image\n",
    "import math\n",
    "\n",
    "def remove_black_border(image):\n",
    "    # Convert image to numpy array for easier manipulation\n",
    "    image_array = np.array(image)\n",
    "\n",
    "    # Find the bounding box of the image\n",
    "    nonzero_pixels = np.argwhere(image_array > 0)\n",
    "    min_row, min_col = np.min(nonzero_pixels, axis=0)\n",
    "    max_row, max_col = np.max(nonzero_pixels, axis=0)\n",
    "\n",
    "    # Crop the image to remove black borders\n",
    "    cropped_image = image_array[min_row:max_row+1, min_col:max_col+1]\n",
    "\n",
    "    # Convert the cropped image back to PIL Image format\n",
    "    cropped_image = Image.fromarray(cropped_image)\n",
    "\n",
    "    return cropped_image\n",
    "\n",
    "\n",
    "def rotate_grayscale_image(image_path, degrees):\n",
    "    # Open the image\n",
    "    image = Image.open(image_path).convert('L')\n",
    "\n",
    "    # Remove black border if present\n",
    "    image = remove_black_border(image)\n",
    "\n",
    "    # Convert degrees to radians\n",
    "    radians = math.radians(degrees)\n",
    "\n",
    "    # Calculate the size of the rotated image\n",
    "    width, height = image.size\n",
    "    new_width = int(math.ceil(abs(width * math.cos(radians)) + abs(height * math.sin(radians))))\n",
    "    new_height = int(math.ceil(abs(width * math.sin(radians)) + abs(height * math.cos(radians))))\n",
    "\n",
    "    # Calculate the center point of the original image\n",
    "    center_x = width / 2\n",
    "    center_y = height / 2\n",
    "\n",
    "    # Create a new blank image with the calculated size\n",
    "    rotated_image = Image.new('L', (new_width, new_height))\n",
    "\n",
    "    # Iterate over each pixel in the rotated image\n",
    "    for x in range(new_width):\n",
    "        for y in range(new_height):\n",
    "            # Calculate the corresponding pixel position in the original image\n",
    "            src_x = int((x - new_width / 2) * math.cos(-radians) + (y - new_height / 2) * math.sin(-radians) + center_x)\n",
    "            src_y = int(-(x - new_width / 2) * math.sin(-radians) + (y - new_height / 2) * math.cos(-radians) + center_y)\n",
    "\n",
    "            # Check if the calculated position is within the original image boundaries\n",
    "            if src_x >= 0 and src_x < width and src_y >= 0 and src_y < height:\n",
    "                # Get the pixel value from the original image using nearest-neighbor interpolation\n",
    "                pixel_value = image.getpixel((src_x, src_y))\n",
    "\n",
    "                # Set the pixel value in the rotated image\n",
    "                rotated_image.putpixel((x, y), pixel_value)\n",
    "\n",
    "    return rotated_image\n",
    "\n",
    "\n",
    "# # Usage example\n",
    "# input_image_path = 'path/to/your/image.jpg'\n",
    "# output_image_path = 'path/to/save/result.jpg'\n",
    "\n",
    "# # Rotate the image to 123 degrees\n",
    "# rotated_image = rotate_grayscale_image(input_image_path, 123)\n",
    "\n",
    "# # Rotate the rotated image back to 0 degrees\n",
    "# restored_image = rotate_grayscale_image(rotated_image, -123)\n",
    "\n",
    "# # Save the restored image\n",
    "# restored_image.save(output_image_path)\n"
   ]
  },
  {
   "cell_type": "code",
   "execution_count": null,
   "metadata": {},
   "outputs": [],
   "source": [
    "import numpy as np\n",
    "from PIL import Image\n",
    "import math\n",
    "\n",
    "def remove_black_border(image):\n",
    "    # Convert image to numpy array for easier manipulation\n",
    "    image_array = np.array(image)\n",
    "\n",
    "    # Find the bounding box of the image\n",
    "    nonzero_pixels = np.argwhere(image_array > 0)\n",
    "    min_row, min_col = np.min(nonzero_pixels, axis=0)\n",
    "    max_row, max_col = np.max(nonzero_pixels, axis=0)\n",
    "\n",
    "    # Crop the image to remove black borders\n",
    "    cropped_image = image_array[min_row:max_row+1, min_col:max_col+1]\n",
    "\n",
    "    # Convert the cropped image back to PIL Image format\n",
    "    cropped_image = Image.fromarray(cropped_image)\n",
    "\n",
    "    return cropped_image\n",
    "\n",
    "\n",
    "def rotate_grayscale_image(image_path, degrees):\n",
    "    # Open the image\n",
    "    image = Image.open(image_path).convert('L')\n",
    "\n",
    "    # Remove black border if present\n",
    "    image = remove_black_border(image)\n",
    "\n",
    "    # Convert degrees to radians\n",
    "    radians = math.radians(degrees)\n",
    "\n",
    "    # Calculate the size of the rotated image\n",
    "    width, height = image.size\n",
    "    new_width = int(math.ceil(abs(width * math.cos(radians)) + abs(height * math.sin(radians))))\n",
    "    new_height = int(math.ceil(abs(width * math.sin(radians)) + abs(height * math.cos(radians))))\n",
    "\n",
    "    # Calculate the center point of the original image\n",
    "    center_x = width / 2\n",
    "    center_y = height / 2\n",
    "\n",
    "    # Create a new blank image with the calculated size\n",
    "    rotated_image = Image.new('L', (new_width, new_height))\n",
    "\n",
    "    # Iterate over each pixel in the rotated image\n",
    "    for x in range(new_width):\n",
    "        for y in range(new_height):\n",
    "            # Calculate the corresponding pixel position in the original image\n",
    "            src_x = int((x - new_width / 2) * math.cos(-radians) + (y - new_height / 2) * math.sin(-radians) + center_x)\n",
    "            src_y = int(-(x - new_width / 2) * math.sin(-radians) + (y - new_height / 2) * math.cos(-radians) + center_y)\n",
    "\n",
    "            # Check if the calculated position is within the original image boundaries\n",
    "            if src_x >= 0 and src_x < width and src_y >= 0 and src_y < height:\n",
    "                # Get the pixel value from the original image using nearest-neighbor interpolation\n",
    "                pixel_value = image.getpixel((src_x, src_y))\n",
    "\n",
    "                # Set the pixel value in the rotated image\n",
    "                rotated_image.putpixel((x, y), pixel_value)\n",
    "\n",
    "    # Crop the rotated image to remove black borders\n",
    "    rotated_image = remove_black_border(rotated_image)\n",
    "\n",
    "    return rotated_image\n"
   ]
  },
  {
   "cell_type": "code",
   "execution_count": null,
   "metadata": {},
   "outputs": [],
   "source": [
    "nn_rotated = rotate_grayscale_image(\"data/ffbf0023_4.png\", 123)\n",
    "np.array(nn_rotated).shape"
   ]
  },
  {
   "cell_type": "code",
   "execution_count": null,
   "metadata": {},
   "outputs": [],
   "source": [
    "nn_rotated.save(\"data/nn_rotated.png\")"
   ]
  },
  {
   "cell_type": "code",
   "execution_count": null,
   "metadata": {},
   "outputs": [],
   "source": [
    "np.unique(np.array(nn_rotated))"
   ]
  },
  {
   "cell_type": "code",
   "execution_count": null,
   "metadata": {},
   "outputs": [],
   "source": [
    "np.unique(np.array(image))"
   ]
  },
  {
   "cell_type": "code",
   "execution_count": null,
   "metadata": {},
   "outputs": [],
   "source": [
    "orig_rotated = rotate_grayscale_image(\"data/nn_rotated.png\", -123)\n",
    "orig_rotated"
   ]
  },
  {
   "cell_type": "code",
   "execution_count": null,
   "metadata": {},
   "outputs": [],
   "source": [
    "orig_rotated.save(\"data/orig_rotated.png\")"
   ]
  },
  {
   "cell_type": "code",
   "execution_count": null,
   "metadata": {},
   "outputs": [],
   "source": [
    "np.unique(np.array(orig_rotated))"
   ]
  },
  {
   "cell_type": "code",
   "execution_count": null,
   "metadata": {},
   "outputs": [],
   "source": [
    "np.unique(np.array(image))"
   ]
  },
  {
   "cell_type": "code",
   "execution_count": null,
   "metadata": {},
   "outputs": [],
   "source": [
    "np.unique(np.array(nn_rotated))"
   ]
  },
  {
   "cell_type": "code",
   "execution_count": null,
   "metadata": {},
   "outputs": [],
   "source": [
    "np.array(image).shape"
   ]
  },
  {
   "cell_type": "code",
   "execution_count": null,
   "metadata": {},
   "outputs": [],
   "source": [
    "np.array(orig_rotated)"
   ]
  },
  {
   "cell_type": "code",
   "execution_count": null,
   "metadata": {},
   "outputs": [],
   "source": [
    "rotat2 = orig_rotated.rotate(90, expand=True)\n",
    "rotat2"
   ]
  },
  {
   "cell_type": "code",
   "execution_count": null,
   "metadata": {},
   "outputs": [],
   "source": [
    "rotat2.save(\"data/rotate_2.png\")"
   ]
  },
  {
   "cell_type": "code",
   "execution_count": null,
   "metadata": {},
   "outputs": [],
   "source": [
    "import torch\n",
    "from document_alignment_correction.helper import rotateImage\n",
    "from skimage import io\n",
    "\n",
    "gray_image = io.imread(\"data/rotate_2.png\")\n",
    "_, fixed_image = rotateImage(gray_image, -90)\n",
    "fixed_image"
   ]
  },
  {
   "cell_type": "code",
   "execution_count": null,
   "metadata": {},
   "outputs": [],
   "source": [
    "pip install tqdm"
   ]
  },
  {
   "cell_type": "code",
   "execution_count": null,
   "metadata": {},
   "outputs": [],
   "source": []
  }
 ],
 "metadata": {
  "kernelspec": {
   "display_name": "doc_align",
   "language": "python",
   "name": "python3"
  },
  "language_info": {
   "codemirror_mode": {
    "name": "ipython",
    "version": 3
   },
   "file_extension": ".py",
   "mimetype": "text/x-python",
   "name": "python",
   "nbconvert_exporter": "python",
   "pygments_lexer": "ipython3",
   "version": "3.9.16"
  },
  "orig_nbformat": 4,
  "vscode": {
   "interpreter": {
    "hash": "9461aab520595fb2b6c7d1ac143b4afabb6f7bc5a060f6e557d76aa3601e6136"
   }
  }
 },
 "nbformat": 4,
 "nbformat_minor": 2
}
